{
 "cells": [
  {
   "attachments": {},
   "cell_type": "markdown",
   "metadata": {},
   "source": [
    "# Overview \n",
    "\n",
    "This notebook describes how to fetch all necessary data from EMBL-EBI databse by `study_accession`. This entire workflow is designed to conquer the challenge of multi-omics integration(meta data harmonization, matrix allignment)\n",
    "\n",
    "Last update: 09/24/2023, Justin Zhang(justinxuan1230@gmail.com)\n",
    "\n",
    "\n",
    "## Table of Contents\n",
    "* [Initialization](#Initialization)\n",
    "* [Download](#Download)\n"
   ]
  },
  {
   "attachments": {},
   "cell_type": "markdown",
   "metadata": {},
   "source": [
    "## Install necessary packages"
   ]
  },
  {
   "cell_type": "code",
   "execution_count": null,
   "metadata": {},
   "outputs": [],
   "source": [
    "!pip install scrapy --quiet\n",
    "!pip install scrapydo --quiet\n",
    "!pip install scrapy-user-agents --quiet"
   ]
  },
  {
   "attachments": {},
   "cell_type": "markdown",
   "metadata": {},
   "source": [
    "## Initialization"
   ]
  },
  {
   "attachments": {},
   "cell_type": "markdown",
   "metadata": {},
   "source": [
    "Provide a proper study_accession available to EMBL-EBI database"
   ]
  },
  {
   "cell_type": "code",
   "execution_count": null,
   "metadata": {},
   "outputs": [],
   "source": [
    "!python study_crawler.py PRJNA380955 "
   ]
  },
  {
   "attachments": {},
   "cell_type": "markdown",
   "metadata": {},
   "source": [
    "## Download\n"
   ]
  },
  {
   "attachments": {},
   "cell_type": "markdown",
   "metadata": {},
   "source": [
    "1. **Install Aspera Connect**: You will need to download and install the Aspera Connect client on your machine. This client provides the `ascp` command line interface. you can refer to this help page: <https://www.ebi.ac.uk/bioimage-archive/help-download/>\n",
    "\n",
    "2. **Run the Command**: bash ascrp_download.sh"
   ]
  },
  {
   "cell_type": "code",
   "execution_count": null,
   "metadata": {},
   "outputs": [],
   "source": [
    "!bash ascrp_download.sh"
   ]
  }
 ],
 "metadata": {
  "kernelspec": {
   "display_name": "Python 3",
   "language": "python",
   "name": "python3"
  },
  "language_info": {
   "codemirror_mode": {
    "name": "ipython",
    "version": 3
   },
   "file_extension": ".py",
   "mimetype": "text/x-python",
   "name": "python",
   "nbconvert_exporter": "python",
   "pygments_lexer": "ipython3",
   "version": "3.10.5"
  },
  "orig_nbformat": 4
 },
 "nbformat": 4,
 "nbformat_minor": 2
}
